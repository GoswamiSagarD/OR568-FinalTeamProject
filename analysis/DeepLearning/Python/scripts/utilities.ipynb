{
 "cells": [
  {
   "cell_type": "markdown",
   "metadata": {},
   "source": [
    "# Export SQLite3 database to CSV"
   ]
  },
  {
   "cell_type": "code",
   "execution_count": 1,
   "metadata": {},
   "outputs": [],
   "source": [
    "import sqlite3\n",
    "import os\n",
    "\n",
    "conn = sqlite3.connect('../logs_2_0/test_logs.db')\n",
    "cur = conn.cursor()\n",
    "\n",
    "with open('../logs_2_0/test_logs.csv', 'w') as f:\n",
    "    f.write(\"RUN_ID,N_Layers,N_Neurons,N_Params,N_Epochs,testMAE,testRMSE,testMAPE,testMSLE\\n\")\n",
    "    for recs in cur.execute('SELECT * FROM test_logs;').fetchall():\n",
    "        f.write(','.join(map(str, recs)) + '\\n')\n",
    "\n",
    "conn.close()"
   ]
  }
 ],
 "metadata": {
  "kernelspec": {
   "display_name": "Python 3.9.13 ('base')",
   "language": "python",
   "name": "python3"
  },
  "language_info": {
   "codemirror_mode": {
    "name": "ipython",
    "version": 3
   },
   "file_extension": ".py",
   "mimetype": "text/x-python",
   "name": "python",
   "nbconvert_exporter": "python",
   "pygments_lexer": "ipython3",
   "version": "3.9.13"
  },
  "orig_nbformat": 4,
  "vscode": {
   "interpreter": {
    "hash": "1e943c6021e18c12415d667b2a5e87faed1a1ca9435f20fb41a62692ca695389"
   }
  }
 },
 "nbformat": 4,
 "nbformat_minor": 2
}
